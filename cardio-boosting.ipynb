{
 "cells": [
  {
   "cell_type": "markdown",
   "id": "7e484405",
   "metadata": {
    "cellId": "m2cpxyyb8cf1lm2cl9t4",
    "execution_id": "d72abdce-1718-4b5e-9cfe-0baa70780340"
   },
   "source": [
    "Имеется датасет, содержащий слудующую информацию о пациентах:\n",
    "\n",
    "`id` - уникальный идентификатор<br>\n",
    "`age` - возраст<br>\n",
    "`gender` - пол<br>\n",
    "`height` - рост<br>\n",
    "`weight` - вес<br>\n",
    "`ap_hi` - верхнее давление<br>\n",
    "`ap_lo` - нижнее давление<br>\n",
    "`cholesterol` - уровень холестерина<br>\n",
    "`gluc` - уровень глюкозы<br>\n",
    "`smoke` - курение<br>\n",
    "`alco` - алкоголь<br>\n",
    "`active` - физ. активность<br>\n",
    "`cardio` - наличие сердечных заболеваний<br>\n",
    "\n",
    "Необходимо построить модель, которая будет предсказывать наличие сердечных заболеваний. Метрика - ROC AUC."
   ]
  },
  {
   "cell_type": "markdown",
   "id": "a3555837",
   "metadata": {
    "cellId": "q6frvboiz52ewxly1oa6l",
    "execution_id": "20e6364b-7530-47fc-83d8-8e00c626e538"
   },
   "source": [
    "Импорт необходимых библиотек"
   ]
  },
  {
   "cell_type": "code",
   "execution_count": 26,
   "id": "03f90c64",
   "metadata": {
    "cellId": "mroluy78kac3jfbd0zvf"
   },
   "outputs": [
    {
     "name": "stderr",
     "output_type": "stream",
     "text": [
      "/home/jupyter/.local/lib/python3.8/site-packages/scipy/__init__.py:143: UserWarning: A NumPy version >=1.19.5 and <1.27.0 is required for this version of SciPy (detected version 1.19.2)\n",
      "  warnings.warn(f\"A NumPy version >={np_minversion} and <{np_maxversion}\"\n"
     ]
    }
   ],
   "source": [
    "from pickle import dump, load\n",
    "\n",
    "import numpy\n",
    "import matplotlib.pyplot as plt\n",
    "import pandas as pd\n",
    "\n",
    "from sklearn.ensemble import RandomForestClassifier\n",
    "from sklearn.preprocessing import StandardScaler, MinMaxScaler, OrdinalEncoder, OneHotEncoder\n",
    "from sklearn.model_selection import RandomizedSearchCV\n",
    "from sklearn.compose import ColumnTransformer\n",
    "from sklearn.metrics import roc_auc_score\n",
    "\n",
    "from sklearn.pipeline import Pipeline\n",
    "from sklearn.ensemble import GradientBoostingClassifier\n",
    "\n",
    "from imblearn.pipeline import Pipeline as imbpipeline\n",
    "\n",
    "from sklearn.model_selection import train_test_split, cross_val_score"
   ]
  },
  {
   "cell_type": "markdown",
   "id": "0be6a1b0",
   "metadata": {
    "cellId": "03z53ffh1bud0d6nwk2nivrv",
    "execution_id": "61c12ae8-6349-4211-adb4-340e39e4fb2f"
   },
   "source": [
    "Закрузка датасетов (файлы загружены на vk.com)"
   ]
  },
  {
   "cell_type": "code",
   "execution_count": 27,
   "id": "da5408ea",
   "metadata": {
    "cellId": "0p7tpqtt9fzdxpbnguowv9"
   },
   "outputs": [],
   "source": [
    "data = pd.read_csv('https://vk.com/s/v1/doc/CTTKYV45hY1vHUof4R9w0WZzkjGcV3F_tD_KUb98NXpVn-3wsJo')\n",
    "test = pd.read_csv('https://vk.com/s/v1/doc/3WmCnNwFN07oEhV4kZ6lUIllsij7UnkUNiFCUv1KAzs57-k5c0s')"
   ]
  },
  {
   "cell_type": "markdown",
   "id": "8b7d0da7",
   "metadata": {
    "cellId": "tbh18y6fmgo71mqygizcl9",
    "execution_id": "fd11ff5c-dffb-4b53-9bb8-05f08c937e97"
   },
   "source": [
    "Выведем тренировочный датасет."
   ]
  },
  {
   "cell_type": "code",
   "execution_count": 28,
   "id": "53614f68",
   "metadata": {
    "cellId": "xlyijt29599ql0bf6wx64"
   },
   "outputs": [
    {
     "data": {
      "text/html": [
       "<div>\n",
       "<style scoped>\n",
       "    .dataframe tbody tr th:only-of-type {\n",
       "        vertical-align: middle;\n",
       "    }\n",
       "\n",
       "    .dataframe tbody tr th {\n",
       "        vertical-align: top;\n",
       "    }\n",
       "\n",
       "    .dataframe thead th {\n",
       "        text-align: right;\n",
       "    }\n",
       "</style>\n",
       "<table border=\"1\" class=\"dataframe\">\n",
       "  <thead>\n",
       "    <tr style=\"text-align: right;\">\n",
       "      <th></th>\n",
       "      <th>id</th>\n",
       "      <th>age</th>\n",
       "      <th>gender</th>\n",
       "      <th>height</th>\n",
       "      <th>weight</th>\n",
       "      <th>ap_hi</th>\n",
       "      <th>ap_lo</th>\n",
       "      <th>cholesterol</th>\n",
       "      <th>gluc</th>\n",
       "      <th>smoke</th>\n",
       "      <th>alco</th>\n",
       "      <th>active</th>\n",
       "      <th>cardio</th>\n",
       "    </tr>\n",
       "  </thead>\n",
       "  <tbody>\n",
       "    <tr>\n",
       "      <th>0</th>\n",
       "      <td>0</td>\n",
       "      <td>18393</td>\n",
       "      <td>2</td>\n",
       "      <td>168</td>\n",
       "      <td>62.0</td>\n",
       "      <td>110</td>\n",
       "      <td>80</td>\n",
       "      <td>1</td>\n",
       "      <td>1</td>\n",
       "      <td>0</td>\n",
       "      <td>0</td>\n",
       "      <td>1</td>\n",
       "      <td>0</td>\n",
       "    </tr>\n",
       "    <tr>\n",
       "      <th>1</th>\n",
       "      <td>1</td>\n",
       "      <td>20228</td>\n",
       "      <td>1</td>\n",
       "      <td>156</td>\n",
       "      <td>85.0</td>\n",
       "      <td>140</td>\n",
       "      <td>90</td>\n",
       "      <td>3</td>\n",
       "      <td>1</td>\n",
       "      <td>0</td>\n",
       "      <td>0</td>\n",
       "      <td>1</td>\n",
       "      <td>1</td>\n",
       "    </tr>\n",
       "    <tr>\n",
       "      <th>2</th>\n",
       "      <td>2</td>\n",
       "      <td>18857</td>\n",
       "      <td>1</td>\n",
       "      <td>165</td>\n",
       "      <td>64.0</td>\n",
       "      <td>130</td>\n",
       "      <td>70</td>\n",
       "      <td>3</td>\n",
       "      <td>1</td>\n",
       "      <td>0</td>\n",
       "      <td>0</td>\n",
       "      <td>0</td>\n",
       "      <td>1</td>\n",
       "    </tr>\n",
       "    <tr>\n",
       "      <th>3</th>\n",
       "      <td>3</td>\n",
       "      <td>17623</td>\n",
       "      <td>2</td>\n",
       "      <td>169</td>\n",
       "      <td>82.0</td>\n",
       "      <td>150</td>\n",
       "      <td>100</td>\n",
       "      <td>1</td>\n",
       "      <td>1</td>\n",
       "      <td>0</td>\n",
       "      <td>0</td>\n",
       "      <td>1</td>\n",
       "      <td>1</td>\n",
       "    </tr>\n",
       "    <tr>\n",
       "      <th>4</th>\n",
       "      <td>4</td>\n",
       "      <td>17474</td>\n",
       "      <td>1</td>\n",
       "      <td>156</td>\n",
       "      <td>56.0</td>\n",
       "      <td>100</td>\n",
       "      <td>60</td>\n",
       "      <td>1</td>\n",
       "      <td>1</td>\n",
       "      <td>0</td>\n",
       "      <td>0</td>\n",
       "      <td>0</td>\n",
       "      <td>0</td>\n",
       "    </tr>\n",
       "  </tbody>\n",
       "</table>\n",
       "</div>"
      ],
      "text/plain": [
       "   id    age  gender  height  weight  ...  gluc  smoke  alco  active  cardio\n",
       "0   0  18393       2     168    62.0  ...     1      0     0       1       0\n",
       "1   1  20228       1     156    85.0  ...     1      0     0       1       1\n",
       "2   2  18857       1     165    64.0  ...     1      0     0       0       1\n",
       "3   3  17623       2     169    82.0  ...     1      0     0       1       1\n",
       "4   4  17474       1     156    56.0  ...     1      0     0       0       0\n",
       "\n",
       "[5 rows x 13 columns]"
      ]
     },
     "execution_count": 28,
     "metadata": {},
     "output_type": "execute_result"
    }
   ],
   "source": [
    "data.head()"
   ]
  },
  {
   "cell_type": "markdown",
   "id": "c0621f4d",
   "metadata": {
    "cellId": "uquqyuwqfus2tun9qpgss",
    "execution_id": "ccac938e-2252-400c-8d73-96ae3025264d"
   },
   "source": [
    "Значения в колонке `age` в днях, переведем их в годы."
   ]
  },
  {
   "cell_type": "code",
   "execution_count": 29,
   "id": "2cdb6953",
   "metadata": {
    "cellId": "vq1m9um5rvh3kypledciyo"
   },
   "outputs": [],
   "source": [
    "data['age'] = (data.age / 365)\n",
    "test['age'] = (test.age / 365)"
   ]
  },
  {
   "cell_type": "markdown",
   "id": "de5e1008",
   "metadata": {
    "cellId": "1740e7powy7bnkk1z1nwn",
    "execution_id": "32d721f4-cb30-4e0b-aed2-610b280bcaee"
   },
   "source": [
    "Описательная статистика."
   ]
  },
  {
   "cell_type": "code",
   "execution_count": 30,
   "id": "63e581a2",
   "metadata": {
    "cellId": "hiko0i603rkci77707ugh"
   },
   "outputs": [
    {
     "data": {
      "text/html": [
       "<div>\n",
       "<style scoped>\n",
       "    .dataframe tbody tr th:only-of-type {\n",
       "        vertical-align: middle;\n",
       "    }\n",
       "\n",
       "    .dataframe tbody tr th {\n",
       "        vertical-align: top;\n",
       "    }\n",
       "\n",
       "    .dataframe thead th {\n",
       "        text-align: right;\n",
       "    }\n",
       "</style>\n",
       "<table border=\"1\" class=\"dataframe\">\n",
       "  <thead>\n",
       "    <tr style=\"text-align: right;\">\n",
       "      <th></th>\n",
       "      <th>count</th>\n",
       "      <th>mean</th>\n",
       "      <th>std</th>\n",
       "      <th>min</th>\n",
       "      <th>25%</th>\n",
       "      <th>50%</th>\n",
       "      <th>75%</th>\n",
       "      <th>max</th>\n",
       "    </tr>\n",
       "  </thead>\n",
       "  <tbody>\n",
       "    <tr>\n",
       "      <th>id</th>\n",
       "      <td>70000.0</td>\n",
       "      <td>49972.419900</td>\n",
       "      <td>28851.302323</td>\n",
       "      <td>0.000000</td>\n",
       "      <td>25006.750000</td>\n",
       "      <td>50001.500000</td>\n",
       "      <td>74889.250000</td>\n",
       "      <td>99999.000000</td>\n",
       "    </tr>\n",
       "    <tr>\n",
       "      <th>age</th>\n",
       "      <td>70000.0</td>\n",
       "      <td>53.339358</td>\n",
       "      <td>6.759594</td>\n",
       "      <td>29.583562</td>\n",
       "      <td>48.394521</td>\n",
       "      <td>53.980822</td>\n",
       "      <td>58.430137</td>\n",
       "      <td>64.967123</td>\n",
       "    </tr>\n",
       "    <tr>\n",
       "      <th>gender</th>\n",
       "      <td>70000.0</td>\n",
       "      <td>1.349571</td>\n",
       "      <td>0.476838</td>\n",
       "      <td>1.000000</td>\n",
       "      <td>1.000000</td>\n",
       "      <td>1.000000</td>\n",
       "      <td>2.000000</td>\n",
       "      <td>2.000000</td>\n",
       "    </tr>\n",
       "    <tr>\n",
       "      <th>height</th>\n",
       "      <td>70000.0</td>\n",
       "      <td>164.359229</td>\n",
       "      <td>8.210126</td>\n",
       "      <td>55.000000</td>\n",
       "      <td>159.000000</td>\n",
       "      <td>165.000000</td>\n",
       "      <td>170.000000</td>\n",
       "      <td>250.000000</td>\n",
       "    </tr>\n",
       "    <tr>\n",
       "      <th>weight</th>\n",
       "      <td>70000.0</td>\n",
       "      <td>74.205690</td>\n",
       "      <td>14.395757</td>\n",
       "      <td>10.000000</td>\n",
       "      <td>65.000000</td>\n",
       "      <td>72.000000</td>\n",
       "      <td>82.000000</td>\n",
       "      <td>200.000000</td>\n",
       "    </tr>\n",
       "    <tr>\n",
       "      <th>ap_hi</th>\n",
       "      <td>70000.0</td>\n",
       "      <td>128.817286</td>\n",
       "      <td>154.011419</td>\n",
       "      <td>-150.000000</td>\n",
       "      <td>120.000000</td>\n",
       "      <td>120.000000</td>\n",
       "      <td>140.000000</td>\n",
       "      <td>16020.000000</td>\n",
       "    </tr>\n",
       "    <tr>\n",
       "      <th>ap_lo</th>\n",
       "      <td>70000.0</td>\n",
       "      <td>96.630414</td>\n",
       "      <td>188.472530</td>\n",
       "      <td>-70.000000</td>\n",
       "      <td>80.000000</td>\n",
       "      <td>80.000000</td>\n",
       "      <td>90.000000</td>\n",
       "      <td>11000.000000</td>\n",
       "    </tr>\n",
       "    <tr>\n",
       "      <th>cholesterol</th>\n",
       "      <td>70000.0</td>\n",
       "      <td>1.366871</td>\n",
       "      <td>0.680250</td>\n",
       "      <td>1.000000</td>\n",
       "      <td>1.000000</td>\n",
       "      <td>1.000000</td>\n",
       "      <td>2.000000</td>\n",
       "      <td>3.000000</td>\n",
       "    </tr>\n",
       "    <tr>\n",
       "      <th>gluc</th>\n",
       "      <td>70000.0</td>\n",
       "      <td>1.226457</td>\n",
       "      <td>0.572270</td>\n",
       "      <td>1.000000</td>\n",
       "      <td>1.000000</td>\n",
       "      <td>1.000000</td>\n",
       "      <td>1.000000</td>\n",
       "      <td>3.000000</td>\n",
       "    </tr>\n",
       "    <tr>\n",
       "      <th>smoke</th>\n",
       "      <td>70000.0</td>\n",
       "      <td>0.088129</td>\n",
       "      <td>0.283484</td>\n",
       "      <td>0.000000</td>\n",
       "      <td>0.000000</td>\n",
       "      <td>0.000000</td>\n",
       "      <td>0.000000</td>\n",
       "      <td>1.000000</td>\n",
       "    </tr>\n",
       "    <tr>\n",
       "      <th>alco</th>\n",
       "      <td>70000.0</td>\n",
       "      <td>0.053771</td>\n",
       "      <td>0.225568</td>\n",
       "      <td>0.000000</td>\n",
       "      <td>0.000000</td>\n",
       "      <td>0.000000</td>\n",
       "      <td>0.000000</td>\n",
       "      <td>1.000000</td>\n",
       "    </tr>\n",
       "    <tr>\n",
       "      <th>active</th>\n",
       "      <td>70000.0</td>\n",
       "      <td>0.803729</td>\n",
       "      <td>0.397179</td>\n",
       "      <td>0.000000</td>\n",
       "      <td>1.000000</td>\n",
       "      <td>1.000000</td>\n",
       "      <td>1.000000</td>\n",
       "      <td>1.000000</td>\n",
       "    </tr>\n",
       "    <tr>\n",
       "      <th>cardio</th>\n",
       "      <td>70000.0</td>\n",
       "      <td>0.499700</td>\n",
       "      <td>0.500003</td>\n",
       "      <td>0.000000</td>\n",
       "      <td>0.000000</td>\n",
       "      <td>0.000000</td>\n",
       "      <td>1.000000</td>\n",
       "      <td>1.000000</td>\n",
       "    </tr>\n",
       "  </tbody>\n",
       "</table>\n",
       "</div>"
      ],
      "text/plain": [
       "               count          mean  ...           75%           max\n",
       "id           70000.0  49972.419900  ...  74889.250000  99999.000000\n",
       "age          70000.0     53.339358  ...     58.430137     64.967123\n",
       "gender       70000.0      1.349571  ...      2.000000      2.000000\n",
       "height       70000.0    164.359229  ...    170.000000    250.000000\n",
       "weight       70000.0     74.205690  ...     82.000000    200.000000\n",
       "ap_hi        70000.0    128.817286  ...    140.000000  16020.000000\n",
       "ap_lo        70000.0     96.630414  ...     90.000000  11000.000000\n",
       "cholesterol  70000.0      1.366871  ...      2.000000      3.000000\n",
       "gluc         70000.0      1.226457  ...      1.000000      3.000000\n",
       "smoke        70000.0      0.088129  ...      0.000000      1.000000\n",
       "alco         70000.0      0.053771  ...      0.000000      1.000000\n",
       "active       70000.0      0.803729  ...      1.000000      1.000000\n",
       "cardio       70000.0      0.499700  ...      1.000000      1.000000\n",
       "\n",
       "[13 rows x 8 columns]"
      ]
     },
     "execution_count": 30,
     "metadata": {},
     "output_type": "execute_result"
    }
   ],
   "source": [
    "data.describe().T"
   ]
  },
  {
   "cell_type": "markdown",
   "id": "83b20ce5",
   "metadata": {
    "cellId": "kwv32wjkxaehjsahnpp52",
    "execution_id": "6ee1d33c-8d23-4996-8c7a-733f4de53a86"
   },
   "source": [
    "Удалим выбросы в колонках `height` и `weight`, удалив по 1% значений."
   ]
  },
  {
   "cell_type": "code",
   "execution_count": 31,
   "id": "4d0a9294",
   "metadata": {
    "cellId": "ws43d5cl9bsme7ut2r1iiq"
   },
   "outputs": [
    {
     "name": "stdout",
     "output_type": "stream",
     "text": [
      "147.0\n",
      "184.0\n"
     ]
    }
   ],
   "source": [
    "print(data.height.quantile(0.01))\n",
    "print(data.height.quantile(0.99))"
   ]
  },
  {
   "cell_type": "code",
   "execution_count": 32,
   "id": "02c71f7a",
   "metadata": {
    "cellId": "4wymabfmb9x4ji59bkt1f"
   },
   "outputs": [],
   "source": [
    "data = data.loc[(data.height > 147) & (data.height < 184)]"
   ]
  },
  {
   "cell_type": "code",
   "execution_count": 33,
   "id": "3dd0da66",
   "metadata": {
    "cellId": "dbjud030hko5br03zetjnl"
   },
   "outputs": [
    {
     "name": "stdout",
     "output_type": "stream",
     "text": [
      "48.0\n",
      "117.0\n"
     ]
    }
   ],
   "source": [
    "print(data.weight.quantile(0.01))\n",
    "print(data.weight.quantile(0.99))"
   ]
  },
  {
   "cell_type": "code",
   "execution_count": 34,
   "id": "71862267",
   "metadata": {
    "cellId": "crc92n8kk886b2edpnppld"
   },
   "outputs": [],
   "source": [
    "data = data.loc[(data.weight > 45) & (data.weight < 120)]"
   ]
  },
  {
   "cell_type": "markdown",
   "id": "6a170b49",
   "metadata": {
    "cellId": "79fb41tuv3duo57sdxd4u",
    "execution_id": "07820066-55e6-40c7-ab2f-8d2c37a75917"
   },
   "source": [
    "Код ниже очищает колонки, содержащие данные о давлении от отрицательных и аномальных значений. Часть значений были введены с ошибками - их необходимо умнижить или поделить на 10 (некоторые по 2 раза)."
   ]
  },
  {
   "cell_type": "code",
   "execution_count": 35,
   "id": "e523275e",
   "metadata": {
    "cellId": "sgekjodatdnvegkvyb16hf"
   },
   "outputs": [],
   "source": [
    "data.loc[data.ap_hi < 0, 'ap_hi'] = data.loc[data.ap_hi < 0, 'ap_hi'] * -1\n",
    "data.loc[(data.ap_hi >= 10) & (data.ap_hi <= 20), 'ap_hi'] = data.loc[(data.ap_hi >= 10) & (data.ap_hi <= 20), 'ap_hi'] * 10\n",
    "data = data.loc[~(data.ap_hi < 25)]\n",
    "data.loc[data.ap_hi >= 300, 'ap_hi'] = (data.loc[data.ap_hi >= 300, 'ap_hi'] / 10).round(0).astype('int')\n",
    "data.loc[data.ap_hi >= 300, 'ap_hi'] = (data.loc[data.ap_hi >= 300, 'ap_hi'] / 10).round(0).astype('int')\n",
    "data = data.loc[~(data.ap_lo < 50)]\n",
    "data.loc[data.ap_lo > 180, 'ap_lo'] = (data.loc[data.ap_lo > 180, 'ap_lo'] / 10).round(0).astype('int')\n",
    "data.loc[data.ap_lo > 180, 'ap_lo'] = (data.loc[data.ap_lo > 180, 'ap_lo'] / 10).round(0).astype('int')\n",
    "data = data.loc[~(data.ap_lo < 45)]"
   ]
  },
  {
   "cell_type": "markdown",
   "id": "391ad0b8",
   "metadata": {
    "cellId": "ru3jat1tdvcnnm8f6gywl",
    "execution_id": "3ba38ead-558e-4e75-8f7f-9fe3eb68cecf"
   },
   "source": [
    "Многие значения в колонках верхнее давление - вес, нижнее давление - рост совпадают, заменим их на медианные."
   ]
  },
  {
   "cell_type": "code",
   "execution_count": 36,
   "id": "7f6b9e2f",
   "metadata": {
    "cellId": "nck8713mx8o3bl8lnhqb6w"
   },
   "outputs": [],
   "source": [
    "data.loc[(data.weight == data.ap_lo), ['weight', 'ap_lo']] = numpy.nan"
   ]
  },
  {
   "cell_type": "code",
   "execution_count": 37,
   "id": "fa0b35f6",
   "metadata": {
    "cellId": "0af5odbqpbzehsuisjoxob"
   },
   "outputs": [],
   "source": [
    "data['weight'] = data['weight'].fillna(data.groupby(['gender', pd.qcut(data.height, q=10, precision=0)])['weight'].transform(lambda x : x.median()))\n",
    "data['ap_lo'] = data['ap_lo'].fillna(data.groupby(['gender', pd.qcut(data.ap_hi, q=10, precision=0, duplicates='drop')])['ap_lo'].transform(lambda x : x.median()))"
   ]
  },
  {
   "cell_type": "code",
   "execution_count": 38,
   "id": "7fdbba9e",
   "metadata": {
    "cellId": "u47tgckojnqml9dzfjekp"
   },
   "outputs": [],
   "source": [
    "data.loc[(data.height == data.ap_hi), ['height', 'ap_hi']] = numpy.nan"
   ]
  },
  {
   "cell_type": "code",
   "execution_count": 39,
   "id": "a1078235",
   "metadata": {
    "cellId": "ozox1td5bbpy2bjwfmkq1g"
   },
   "outputs": [],
   "source": [
    "data['height'] = data['height'].fillna(data.groupby(['gender', pd.qcut(data.weight, q=10, precision=0)])['height'].transform(lambda x : x.median()))\n",
    "data['ap_hi'] = data['ap_hi'].fillna(data.groupby(['gender', pd.qcut(data.ap_lo, q=10, precision=0, duplicates='drop')])['ap_hi'].transform(lambda x : x.median()))"
   ]
  },
  {
   "cell_type": "markdown",
   "id": "81471371",
   "metadata": {
    "cellId": "d2npz1shg1kkml4pw92wil",
    "execution_id": "79ae0bfc-ca7a-4c18-807f-a2539a9addc0"
   },
   "source": [
    "Нижнее давление не должно быть выше верхнего - поменяем значения местами."
   ]
  },
  {
   "cell_type": "code",
   "execution_count": 40,
   "id": "bcf41e01",
   "metadata": {
    "cellId": "xbjafasbbpoeypf66p4cg"
   },
   "outputs": [
    {
     "data": {
      "text/html": [
       "<div>\n",
       "<style scoped>\n",
       "    .dataframe tbody tr th:only-of-type {\n",
       "        vertical-align: middle;\n",
       "    }\n",
       "\n",
       "    .dataframe tbody tr th {\n",
       "        vertical-align: top;\n",
       "    }\n",
       "\n",
       "    .dataframe thead th {\n",
       "        text-align: right;\n",
       "    }\n",
       "</style>\n",
       "<table border=\"1\" class=\"dataframe\">\n",
       "  <thead>\n",
       "    <tr style=\"text-align: right;\">\n",
       "      <th></th>\n",
       "      <th>ap_hi</th>\n",
       "      <th>ap_lo</th>\n",
       "    </tr>\n",
       "  </thead>\n",
       "  <tbody>\n",
       "    <tr>\n",
       "      <th>474</th>\n",
       "      <td>120.0</td>\n",
       "      <td>150.0</td>\n",
       "    </tr>\n",
       "    <tr>\n",
       "      <th>636</th>\n",
       "      <td>70.0</td>\n",
       "      <td>110.0</td>\n",
       "    </tr>\n",
       "    <tr>\n",
       "      <th>2384</th>\n",
       "      <td>90.0</td>\n",
       "      <td>150.0</td>\n",
       "    </tr>\n",
       "    <tr>\n",
       "      <th>2990</th>\n",
       "      <td>80.0</td>\n",
       "      <td>140.0</td>\n",
       "    </tr>\n",
       "    <tr>\n",
       "      <th>3447</th>\n",
       "      <td>80.0</td>\n",
       "      <td>125.0</td>\n",
       "    </tr>\n",
       "    <tr>\n",
       "      <th>...</th>\n",
       "      <td>...</td>\n",
       "      <td>...</td>\n",
       "    </tr>\n",
       "    <tr>\n",
       "      <th>66315</th>\n",
       "      <td>100.0</td>\n",
       "      <td>160.0</td>\n",
       "    </tr>\n",
       "    <tr>\n",
       "      <th>66657</th>\n",
       "      <td>80.0</td>\n",
       "      <td>120.0</td>\n",
       "    </tr>\n",
       "    <tr>\n",
       "      <th>67421</th>\n",
       "      <td>80.0</td>\n",
       "      <td>130.0</td>\n",
       "    </tr>\n",
       "    <tr>\n",
       "      <th>67470</th>\n",
       "      <td>80.0</td>\n",
       "      <td>120.0</td>\n",
       "    </tr>\n",
       "    <tr>\n",
       "      <th>68067</th>\n",
       "      <td>80.0</td>\n",
       "      <td>120.0</td>\n",
       "    </tr>\n",
       "  </tbody>\n",
       "</table>\n",
       "<p>103 rows × 2 columns</p>\n",
       "</div>"
      ],
      "text/plain": [
       "       ap_hi  ap_lo\n",
       "474    120.0  150.0\n",
       "636     70.0  110.0\n",
       "2384    90.0  150.0\n",
       "2990    80.0  140.0\n",
       "3447    80.0  125.0\n",
       "...      ...    ...\n",
       "66315  100.0  160.0\n",
       "66657   80.0  120.0\n",
       "67421   80.0  130.0\n",
       "67470   80.0  120.0\n",
       "68067   80.0  120.0\n",
       "\n",
       "[103 rows x 2 columns]"
      ]
     },
     "execution_count": 40,
     "metadata": {},
     "output_type": "execute_result"
    }
   ],
   "source": [
    "reversed = data.loc[data.ap_lo > data.ap_hi, ['ap_hi', 'ap_lo']].copy()\n",
    "reversed"
   ]
  },
  {
   "cell_type": "code",
   "execution_count": 41,
   "id": "4c0e8bc9",
   "metadata": {
    "cellId": "255ocke6hsbvqsmx8ye5qp"
   },
   "outputs": [],
   "source": [
    "data.loc[reversed.index, 'ap_lo'] = reversed['ap_hi']\n",
    "data.loc[reversed.index, 'ap_hi'] = reversed['ap_lo']"
   ]
  },
  {
   "cell_type": "markdown",
   "id": "44198cbf",
   "metadata": {
    "cellId": "rcyzzxlabgyroa1rddu0j",
    "execution_id": "dafe2335-54ea-4bd4-9044-6ed5db42027f"
   },
   "source": [
    "Создаим колонку `ap_rate` для расчета отношения верхнего давления к нижнему и исключим наиболее подозрительные значения по этому показателю."
   ]
  },
  {
   "cell_type": "code",
   "execution_count": 42,
   "id": "52d9ee1f",
   "metadata": {
    "cellId": "2ztd86qsl8b3m7ixo0v5aq"
   },
   "outputs": [],
   "source": [
    "data['ap_rate'] = data['ap_lo'] / data['ap_hi']"
   ]
  },
  {
   "cell_type": "code",
   "execution_count": 43,
   "id": "643ea36f",
   "metadata": {
    "cellId": "52k46y10llwe9348y7oab7"
   },
   "outputs": [],
   "source": [
    "data = data.loc[~(data.ap_rate >= 0.9)]"
   ]
  },
  {
   "cell_type": "markdown",
   "id": "4694956d",
   "metadata": {
    "cellId": "p5lu8gcwnan8u5l7ri0yxv",
    "execution_id": "e73213d9-b181-4b5f-8832-a188851da076"
   },
   "source": [
    "Удалим неиформативные столбцы."
   ]
  },
  {
   "cell_type": "code",
   "execution_count": 44,
   "id": "ae140307",
   "metadata": {
    "cellId": "hybdrnkald6zihup7xmtvo"
   },
   "outputs": [],
   "source": [
    "data = data.drop(['id','ap_rate'], axis=1)"
   ]
  },
  {
   "cell_type": "markdown",
   "id": "9ed435cd",
   "metadata": {
    "cellId": "don9203x60to136uhne3xb",
    "execution_id": "1f4cbba3-e821-4582-be2d-906b5af21411"
   },
   "source": [
    "Разделим датасет."
   ]
  },
  {
   "cell_type": "code",
   "execution_count": 45,
   "id": "3790088a",
   "metadata": {
    "cellId": "732qv1mxgci00s2jb3a3g99q"
   },
   "outputs": [],
   "source": [
    "X_train = data.drop('cardio', axis=1)\n",
    "y_train = data['cardio']"
   ]
  },
  {
   "cell_type": "code",
   "execution_count": 46,
   "id": "fff301d7",
   "metadata": {
    "cellId": "msujcyterkyjun0klcv1"
   },
   "outputs": [
    {
     "name": "stdout",
     "output_type": "stream",
     "text": [
      "<class 'pandas.core.frame.DataFrame'>\n",
      "Int64Index: 67303 entries, 0 to 69999\n",
      "Data columns (total 11 columns):\n",
      "age            67303 non-null float64\n",
      "gender         67303 non-null int64\n",
      "height         67303 non-null float64\n",
      "weight         67303 non-null float64\n",
      "ap_hi          67303 non-null float64\n",
      "ap_lo          67303 non-null float64\n",
      "cholesterol    67303 non-null int64\n",
      "gluc           67303 non-null int64\n",
      "smoke          67303 non-null int64\n",
      "alco           67303 non-null int64\n",
      "active         67303 non-null int64\n",
      "dtypes: float64(5), int64(6)\n",
      "memory usage: 6.2 MB\n"
     ]
    }
   ],
   "source": [
    "X_train.info()"
   ]
  },
  {
   "cell_type": "markdown",
   "id": "7e877454",
   "metadata": {
    "cellId": "w566i4wz8llpzzopsyq5k",
    "execution_id": "368dfe2f-ef97-4bf7-a489-a6555766c564"
   },
   "source": [
    "Напишем функцию для подбора гиперпараметров."
   ]
  },
  {
   "cell_type": "code",
   "execution_count": 47,
   "id": "a68fe0c0",
   "metadata": {
    "cellId": "f6teo1p56t4yxxjo925b5"
   },
   "outputs": [],
   "source": [
    "def GBC(n_of_iterations):\n",
    "    preprocessor = ColumnTransformer(\n",
    "        transformers=[('scaler', StandardScaler(), ['height',                        #количественные признаки\n",
    "                                                    'weight',\n",
    "                                                    'age',\n",
    "                                                    'ap_hi',\n",
    "                                                    'ap_lo']),\n",
    "                     ('ordinal_encoder', OrdinalEncoder(handle_unknown='use_encoded_value', unknown_value=-1),\n",
    "                                                           ['gender',                #категориальные признаки\n",
    "                                                            'cholesterol',\n",
    "                                                            'gluc'])],\n",
    "        remainder='passthrough'\n",
    "    )\n",
    "    \n",
    "    pipeline_gbc = imbpipeline([\n",
    "        ('preprocessor', preprocessor),\n",
    "        ('gbc', GradientBoostingClassifier(random_state=100))\n",
    "    ])\n",
    "\n",
    "    params_gbc = {\n",
    "        'gbc__n_estimators':[100, 125],\n",
    "        'gbc__subsample':[0.8, 0.9],\n",
    "        'gbc__max_depth':range(3, 5),\n",
    "        'gbc__max_features':range(5, 10),\n",
    "        'gbc__min_samples_leaf': range(1, 21, 3)\n",
    "    }\n",
    "    \n",
    "    search = RandomizedSearchCV(pipeline_gbc, params_gbc, n_iter=n_of_iterations, cv=4, scoring='roc_auc')\n",
    "    search.fit(X_train, y_train)\n",
    "    results = search.cv_results_\n",
    "    return search.best_score_, search.best_params_"
   ]
  },
  {
   "cell_type": "code",
   "execution_count": 48,
   "id": "9781c0f8",
   "metadata": {
    "cellId": "cgr0ubutohcqpuoumajeeb"
   },
   "outputs": [
    {
     "name": "stderr",
     "output_type": "stream",
     "text": [
      "/home/jupyter/.local/lib/python3.8/site-packages/scipy/__init__.py:143: UserWarning: A NumPy version >=1.19.5 and <1.27.0 is required for this version of SciPy (detected version 1.19.2)\n",
      "  warnings.warn(f\"A NumPy version >={np_minversion} and <{np_maxversion}\"\n"
     ]
    },
    {
     "name": "stdout",
     "output_type": "stream",
     "text": [
      "ROC_AUC on VALID: 0.8029\n",
      "gbc__subsample             0.8\n",
      "gbc__n_estimators        125.0\n",
      "gbc__min_samples_leaf      7.0\n",
      "gbc__max_features          9.0\n",
      "gbc__max_depth             4.0\n",
      "dtype: float64\n",
      "CPU times: user 27.7 s, sys: 2.59 s, total: 30.3 s\n",
      "Wall time: 30.2 s\n"
     ]
    }
   ],
   "source": [
    "#!c1.32\n",
    "%%time\n",
    "roc_auc, best_params = GBC(1)\n",
    "\n",
    "print('ROC_AUC on VALID:', '%.4f' %roc_auc)\n",
    "print(pd.Series(best_params))"
   ]
  },
  {
   "cell_type": "markdown",
   "id": "0695c0a3",
   "metadata": {
    "cellId": "6r5b7c0yihewa60vxez7r",
    "execution_id": "83745500-d6c3-4d55-8617-de19a42e49b4"
   },
   "source": [
    "Лучшие результаты (100 итераций):\n",
    "\n",
    "ROC_AUC on VALID: 0.8030<br>\n",
    "gbc__subsample              0.9<br>\n",
    "gbc__n_estimators         100.0<br>\n",
    "gbc__min_samples_split     15.0<br>\n",
    "gbc__min_samples_leaf      13.0<br>\n",
    "gbc__max_features           6.0<br>\n",
    "gbc__max_depth              4.0<br>"
   ]
  },
  {
   "cell_type": "code",
   "execution_count": 49,
   "id": "bf5e93a0",
   "metadata": {
    "cellId": "h08bkmrj9m5wjf5mbe20j",
    "collapsed": true,
    "jupyter": {
     "outputs_hidden": true
    }
   },
   "outputs": [
    {
     "name": "stderr",
     "output_type": "stream",
     "text": [
      "/home/jupyter/.local/lib/python3.8/site-packages/scipy/__init__.py:143: UserWarning: A NumPy version >=1.19.5 and <1.27.0 is required for this version of SciPy (detected version 1.19.2)\n",
      "  warnings.warn(f\"A NumPy version >={np_minversion} and <{np_maxversion}\"\n"
     ]
    },
    {
     "data": {
      "text/html": [
       "<style>#sk-container-id-1 {color: black;background-color: white;}#sk-container-id-1 pre{padding: 0;}#sk-container-id-1 div.sk-toggleable {background-color: white;}#sk-container-id-1 label.sk-toggleable__label {cursor: pointer;display: block;width: 100%;margin-bottom: 0;padding: 0.3em;box-sizing: border-box;text-align: center;}#sk-container-id-1 label.sk-toggleable__label-arrow:before {content: \"▸\";float: left;margin-right: 0.25em;color: #696969;}#sk-container-id-1 label.sk-toggleable__label-arrow:hover:before {color: black;}#sk-container-id-1 div.sk-estimator:hover label.sk-toggleable__label-arrow:before {color: black;}#sk-container-id-1 div.sk-toggleable__content {max-height: 0;max-width: 0;overflow: hidden;text-align: left;background-color: #f0f8ff;}#sk-container-id-1 div.sk-toggleable__content pre {margin: 0.2em;color: black;border-radius: 0.25em;background-color: #f0f8ff;}#sk-container-id-1 input.sk-toggleable__control:checked~div.sk-toggleable__content {max-height: 200px;max-width: 100%;overflow: auto;}#sk-container-id-1 input.sk-toggleable__control:checked~label.sk-toggleable__label-arrow:before {content: \"▾\";}#sk-container-id-1 div.sk-estimator input.sk-toggleable__control:checked~label.sk-toggleable__label {background-color: #d4ebff;}#sk-container-id-1 div.sk-label input.sk-toggleable__control:checked~label.sk-toggleable__label {background-color: #d4ebff;}#sk-container-id-1 input.sk-hidden--visually {border: 0;clip: rect(1px 1px 1px 1px);clip: rect(1px, 1px, 1px, 1px);height: 1px;margin: -1px;overflow: hidden;padding: 0;position: absolute;width: 1px;}#sk-container-id-1 div.sk-estimator {font-family: monospace;background-color: #f0f8ff;border: 1px dotted black;border-radius: 0.25em;box-sizing: border-box;margin-bottom: 0.5em;}#sk-container-id-1 div.sk-estimator:hover {background-color: #d4ebff;}#sk-container-id-1 div.sk-parallel-item::after {content: \"\";width: 100%;border-bottom: 1px solid gray;flex-grow: 1;}#sk-container-id-1 div.sk-label:hover label.sk-toggleable__label {background-color: #d4ebff;}#sk-container-id-1 div.sk-serial::before {content: \"\";position: absolute;border-left: 1px solid gray;box-sizing: border-box;top: 0;bottom: 0;left: 50%;z-index: 0;}#sk-container-id-1 div.sk-serial {display: flex;flex-direction: column;align-items: center;background-color: white;padding-right: 0.2em;padding-left: 0.2em;position: relative;}#sk-container-id-1 div.sk-item {position: relative;z-index: 1;}#sk-container-id-1 div.sk-parallel {display: flex;align-items: stretch;justify-content: center;background-color: white;position: relative;}#sk-container-id-1 div.sk-item::before, #sk-container-id-1 div.sk-parallel-item::before {content: \"\";position: absolute;border-left: 1px solid gray;box-sizing: border-box;top: 0;bottom: 0;left: 50%;z-index: -1;}#sk-container-id-1 div.sk-parallel-item {display: flex;flex-direction: column;z-index: 1;position: relative;background-color: white;}#sk-container-id-1 div.sk-parallel-item:first-child::after {align-self: flex-end;width: 50%;}#sk-container-id-1 div.sk-parallel-item:last-child::after {align-self: flex-start;width: 50%;}#sk-container-id-1 div.sk-parallel-item:only-child::after {width: 0;}#sk-container-id-1 div.sk-dashed-wrapped {border: 1px dashed gray;margin: 0 0.4em 0.5em 0.4em;box-sizing: border-box;padding-bottom: 0.4em;background-color: white;}#sk-container-id-1 div.sk-label label {font-family: monospace;font-weight: bold;display: inline-block;line-height: 1.2em;}#sk-container-id-1 div.sk-label-container {text-align: center;}#sk-container-id-1 div.sk-container {/* jupyter's `normalize.less` sets `[hidden] { display: none; }` but bootstrap.min.css set `[hidden] { display: none !important; }` so we also need the `!important` here to be able to override the default hidden behavior on the sphinx rendered scikit-learn.org. See: https://github.com/scikit-learn/scikit-learn/issues/21755 */display: inline-block !important;position: relative;}#sk-container-id-1 div.sk-text-repr-fallback {display: none;}</style><div id=\"sk-container-id-1\" class=\"sk-top-container\"><div class=\"sk-text-repr-fallback\"><pre>Pipeline(steps=[(&#x27;preprocessor&#x27;,\n",
       "                 ColumnTransformer(remainder=&#x27;passthrough&#x27;,\n",
       "                                   transformers=[(&#x27;scaler&#x27;, StandardScaler(),\n",
       "                                                  [&#x27;age&#x27;, &#x27;height&#x27;, &#x27;weight&#x27;,\n",
       "                                                   &#x27;ap_hi&#x27;, &#x27;ap_lo&#x27;]),\n",
       "                                                 (&#x27;ordinal_encoder&#x27;,\n",
       "                                                  OrdinalEncoder(handle_unknown=&#x27;use_encoded_value&#x27;,\n",
       "                                                                 unknown_value=-1),\n",
       "                                                  [&#x27;gender&#x27;, &#x27;cholesterol&#x27;,\n",
       "                                                   &#x27;gluc&#x27;])])),\n",
       "                (&#x27;gbc&#x27;,\n",
       "                 GradientBoostingClassifier(max_depth=4, max_features=6,\n",
       "                                            min_samples_leaf=13,\n",
       "                                            min_samples_split=15,\n",
       "                                            random_state=100, subsample=0.9))])</pre><b>In a Jupyter environment, please rerun this cell to show the HTML representation or trust the notebook. <br />On GitHub, the HTML representation is unable to render, please try loading this page with nbviewer.org.</b></div><div class=\"sk-container\" hidden><div class=\"sk-item sk-dashed-wrapped\"><div class=\"sk-label-container\"><div class=\"sk-label sk-toggleable\"><input class=\"sk-toggleable__control sk-hidden--visually\" id=\"sk-estimator-id-1\" type=\"checkbox\" ><label for=\"sk-estimator-id-1\" class=\"sk-toggleable__label sk-toggleable__label-arrow\">Pipeline</label><div class=\"sk-toggleable__content\"><pre>Pipeline(steps=[(&#x27;preprocessor&#x27;,\n",
       "                 ColumnTransformer(remainder=&#x27;passthrough&#x27;,\n",
       "                                   transformers=[(&#x27;scaler&#x27;, StandardScaler(),\n",
       "                                                  [&#x27;age&#x27;, &#x27;height&#x27;, &#x27;weight&#x27;,\n",
       "                                                   &#x27;ap_hi&#x27;, &#x27;ap_lo&#x27;]),\n",
       "                                                 (&#x27;ordinal_encoder&#x27;,\n",
       "                                                  OrdinalEncoder(handle_unknown=&#x27;use_encoded_value&#x27;,\n",
       "                                                                 unknown_value=-1),\n",
       "                                                  [&#x27;gender&#x27;, &#x27;cholesterol&#x27;,\n",
       "                                                   &#x27;gluc&#x27;])])),\n",
       "                (&#x27;gbc&#x27;,\n",
       "                 GradientBoostingClassifier(max_depth=4, max_features=6,\n",
       "                                            min_samples_leaf=13,\n",
       "                                            min_samples_split=15,\n",
       "                                            random_state=100, subsample=0.9))])</pre></div></div></div><div class=\"sk-serial\"><div class=\"sk-item sk-dashed-wrapped\"><div class=\"sk-label-container\"><div class=\"sk-label sk-toggleable\"><input class=\"sk-toggleable__control sk-hidden--visually\" id=\"sk-estimator-id-2\" type=\"checkbox\" ><label for=\"sk-estimator-id-2\" class=\"sk-toggleable__label sk-toggleable__label-arrow\">preprocessor: ColumnTransformer</label><div class=\"sk-toggleable__content\"><pre>ColumnTransformer(remainder=&#x27;passthrough&#x27;,\n",
       "                  transformers=[(&#x27;scaler&#x27;, StandardScaler(),\n",
       "                                 [&#x27;age&#x27;, &#x27;height&#x27;, &#x27;weight&#x27;, &#x27;ap_hi&#x27;, &#x27;ap_lo&#x27;]),\n",
       "                                (&#x27;ordinal_encoder&#x27;,\n",
       "                                 OrdinalEncoder(handle_unknown=&#x27;use_encoded_value&#x27;,\n",
       "                                                unknown_value=-1),\n",
       "                                 [&#x27;gender&#x27;, &#x27;cholesterol&#x27;, &#x27;gluc&#x27;])])</pre></div></div></div><div class=\"sk-parallel\"><div class=\"sk-parallel-item\"><div class=\"sk-item\"><div class=\"sk-label-container\"><div class=\"sk-label sk-toggleable\"><input class=\"sk-toggleable__control sk-hidden--visually\" id=\"sk-estimator-id-3\" type=\"checkbox\" ><label for=\"sk-estimator-id-3\" class=\"sk-toggleable__label sk-toggleable__label-arrow\">scaler</label><div class=\"sk-toggleable__content\"><pre>[&#x27;age&#x27;, &#x27;height&#x27;, &#x27;weight&#x27;, &#x27;ap_hi&#x27;, &#x27;ap_lo&#x27;]</pre></div></div></div><div class=\"sk-serial\"><div class=\"sk-item\"><div class=\"sk-estimator sk-toggleable\"><input class=\"sk-toggleable__control sk-hidden--visually\" id=\"sk-estimator-id-4\" type=\"checkbox\" ><label for=\"sk-estimator-id-4\" class=\"sk-toggleable__label sk-toggleable__label-arrow\">StandardScaler</label><div class=\"sk-toggleable__content\"><pre>StandardScaler()</pre></div></div></div></div></div></div><div class=\"sk-parallel-item\"><div class=\"sk-item\"><div class=\"sk-label-container\"><div class=\"sk-label sk-toggleable\"><input class=\"sk-toggleable__control sk-hidden--visually\" id=\"sk-estimator-id-5\" type=\"checkbox\" ><label for=\"sk-estimator-id-5\" class=\"sk-toggleable__label sk-toggleable__label-arrow\">ordinal_encoder</label><div class=\"sk-toggleable__content\"><pre>[&#x27;gender&#x27;, &#x27;cholesterol&#x27;, &#x27;gluc&#x27;]</pre></div></div></div><div class=\"sk-serial\"><div class=\"sk-item\"><div class=\"sk-estimator sk-toggleable\"><input class=\"sk-toggleable__control sk-hidden--visually\" id=\"sk-estimator-id-6\" type=\"checkbox\" ><label for=\"sk-estimator-id-6\" class=\"sk-toggleable__label sk-toggleable__label-arrow\">OrdinalEncoder</label><div class=\"sk-toggleable__content\"><pre>OrdinalEncoder(handle_unknown=&#x27;use_encoded_value&#x27;, unknown_value=-1)</pre></div></div></div></div></div></div><div class=\"sk-parallel-item\"><div class=\"sk-item\"><div class=\"sk-label-container\"><div class=\"sk-label sk-toggleable\"><input class=\"sk-toggleable__control sk-hidden--visually\" id=\"sk-estimator-id-7\" type=\"checkbox\" ><label for=\"sk-estimator-id-7\" class=\"sk-toggleable__label sk-toggleable__label-arrow\">remainder</label><div class=\"sk-toggleable__content\"><pre>[&#x27;smoke&#x27;, &#x27;alco&#x27;, &#x27;active&#x27;]</pre></div></div></div><div class=\"sk-serial\"><div class=\"sk-item\"><div class=\"sk-estimator sk-toggleable\"><input class=\"sk-toggleable__control sk-hidden--visually\" id=\"sk-estimator-id-8\" type=\"checkbox\" ><label for=\"sk-estimator-id-8\" class=\"sk-toggleable__label sk-toggleable__label-arrow\">passthrough</label><div class=\"sk-toggleable__content\"><pre>passthrough</pre></div></div></div></div></div></div></div></div><div class=\"sk-item\"><div class=\"sk-estimator sk-toggleable\"><input class=\"sk-toggleable__control sk-hidden--visually\" id=\"sk-estimator-id-9\" type=\"checkbox\" ><label for=\"sk-estimator-id-9\" class=\"sk-toggleable__label sk-toggleable__label-arrow\">GradientBoostingClassifier</label><div class=\"sk-toggleable__content\"><pre>GradientBoostingClassifier(max_depth=4, max_features=6, min_samples_leaf=13,\n",
       "                           min_samples_split=15, random_state=100,\n",
       "                           subsample=0.9)</pre></div></div></div></div></div></div></div>"
      ],
      "text/plain": [
       "Pipeline(steps=[('preprocessor',\n",
       "                 ColumnTransformer(remainder='passthrough',\n",
       "                                   transformers=[('scaler', StandardScaler(),\n",
       "                                                  ['age', 'height', 'weight',\n",
       "                                                   'ap_hi', 'ap_lo']),\n",
       "                                                 ('ordinal_encoder',\n",
       "                                                  OrdinalEncoder(handle_unknown='use_encoded_value',\n",
       "                                                                 unknown_value=-1),\n",
       "                                                  ['gender', 'cholesterol',\n",
       "                                                   'gluc'])])),\n",
       "                ('gbc',\n",
       "                 GradientBoostingClassifier(max_depth=4, max_features=6,\n",
       "                                            min_samples_leaf=13,\n",
       "                                            min_samples_split=15,\n",
       "                                            random_state=100, subsample=0.9))])"
      ]
     },
     "execution_count": 49,
     "metadata": {},
     "output_type": "execute_result"
    }
   ],
   "source": [
    "preproc = ColumnTransformer(\n",
    "    transformers=[('scaler', StandardScaler(), ['age',\n",
    "                                                'height',\n",
    "                                                'weight',\n",
    "                                                'ap_hi',\n",
    "                                                'ap_lo']),\n",
    "                  ('ordinal_encoder', OrdinalEncoder(handle_unknown='use_encoded_value', unknown_value=-1),\n",
    "                                               ['gender',\n",
    "                                                'cholesterol',\n",
    "                                                'gluc'])],\n",
    "    remainder='passthrough'\n",
    ")\n",
    "    \n",
    "pipe = Pipeline([\n",
    "    ('preprocessor', preproc),\n",
    "    ('gbc', GradientBoostingClassifier(random_state=100,\n",
    "                                       n_estimators=100,\n",
    "                                       min_samples_leaf=13,\n",
    "                                       max_depth=4,\n",
    "                                       subsample=0.9,\n",
    "                                       min_samples_split=15,\n",
    "                                       max_features=6))\n",
    "])\n",
    "\n",
    "pipe.fit(X_train, y_train)"
   ]
  },
  {
   "cell_type": "markdown",
   "id": "a0acb12e",
   "metadata": {
    "cellId": "022ki7o2nbrgx99d1lh8rz",
    "execution_id": "fd6c990f-98f9-4ec7-ad1c-9c92887e5972"
   },
   "source": [
    "Подготовим тестовый датасет."
   ]
  },
  {
   "cell_type": "code",
   "execution_count": 50,
   "id": "51a3b1b8",
   "metadata": {
    "cellId": "9e32a0e05rpamsz92rnm3r"
   },
   "outputs": [],
   "source": [
    "X_test = test.drop(['id'], axis=1)"
   ]
  },
  {
   "cell_type": "code",
   "execution_count": 51,
   "id": "94e3157e",
   "metadata": {
    "cellId": "xuwsezfp09emdyyi0r4l1s"
   },
   "outputs": [
    {
     "name": "stdout",
     "output_type": "stream",
     "text": [
      "<class 'pandas.core.frame.DataFrame'>\n",
      "RangeIndex: 30000 entries, 0 to 29999\n",
      "Data columns (total 11 columns):\n",
      "age            30000 non-null float64\n",
      "gender         30000 non-null int64\n",
      "height         30000 non-null int64\n",
      "weight         30000 non-null float64\n",
      "ap_hi          30000 non-null int64\n",
      "ap_lo          30000 non-null int64\n",
      "cholesterol    30000 non-null int64\n",
      "gluc           30000 non-null int64\n",
      "smoke          30000 non-null int64\n",
      "alco           30000 non-null int64\n",
      "active         30000 non-null int64\n",
      "dtypes: float64(2), int64(9)\n",
      "memory usage: 2.5 MB\n"
     ]
    }
   ],
   "source": [
    "X_test.info()"
   ]
  },
  {
   "cell_type": "code",
   "execution_count": 53,
   "id": "c6e42a59",
   "metadata": {
    "cellId": "witr3d1sxhzh649bobegr"
   },
   "outputs": [],
   "source": [
    "predictions = pipe.predict_proba(X_test)"
   ]
  },
  {
   "cell_type": "code",
   "execution_count": 54,
   "id": "cbb716a4",
   "metadata": {
    "cellId": "jo7pgr3a8cxjkvyti1ljf"
   },
   "outputs": [
    {
     "data": {
      "text/plain": [
       "array([0.49429452, 0.56041732, 0.40137258, ..., 0.45561181, 0.27814941,\n",
       "       0.70842908])"
      ]
     },
     "execution_count": 54,
     "metadata": {},
     "output_type": "execute_result"
    }
   ],
   "source": [
    "predictions[:,1]"
   ]
  },
  {
   "cell_type": "markdown",
   "id": "710a7fa1",
   "metadata": {
    "cellId": "mbeok28qzbpbcagggf53eq",
    "execution_id": "bb6a9b73-cc22-48f1-b427-00b42e497dda"
   },
   "source": [
    "Подготовим датафрейм для закрузки на Kaggle."
   ]
  },
  {
   "cell_type": "code",
   "execution_count": 55,
   "id": "8c1f477c",
   "metadata": {
    "cellId": "4unwp730s8t46mz7qaw51t"
   },
   "outputs": [],
   "source": [
    "results = pd.concat([test['id'], pd.Series(predictions[:,1])], axis=1)"
   ]
  },
  {
   "cell_type": "code",
   "execution_count": 56,
   "id": "e2f25821",
   "metadata": {
    "cellId": "1whhpgbb413szyu0zdj98"
   },
   "outputs": [],
   "source": [
    "results = results.rename(columns={0: 'cardio'})"
   ]
  },
  {
   "cell_type": "code",
   "execution_count": 57,
   "id": "da03bd42",
   "metadata": {
    "cellId": "6a00idc720454dq85sh4r4"
   },
   "outputs": [
    {
     "data": {
      "text/html": [
       "<div>\n",
       "<style scoped>\n",
       "    .dataframe tbody tr th:only-of-type {\n",
       "        vertical-align: middle;\n",
       "    }\n",
       "\n",
       "    .dataframe tbody tr th {\n",
       "        vertical-align: top;\n",
       "    }\n",
       "\n",
       "    .dataframe thead th {\n",
       "        text-align: right;\n",
       "    }\n",
       "</style>\n",
       "<table border=\"1\" class=\"dataframe\">\n",
       "  <thead>\n",
       "    <tr style=\"text-align: right;\">\n",
       "      <th></th>\n",
       "      <th>id</th>\n",
       "      <th>cardio</th>\n",
       "    </tr>\n",
       "  </thead>\n",
       "  <tbody>\n",
       "    <tr>\n",
       "      <th>0</th>\n",
       "      <td>5</td>\n",
       "      <td>0.494295</td>\n",
       "    </tr>\n",
       "    <tr>\n",
       "      <th>1</th>\n",
       "      <td>6</td>\n",
       "      <td>0.560417</td>\n",
       "    </tr>\n",
       "    <tr>\n",
       "      <th>2</th>\n",
       "      <td>7</td>\n",
       "      <td>0.401373</td>\n",
       "    </tr>\n",
       "    <tr>\n",
       "      <th>3</th>\n",
       "      <td>10</td>\n",
       "      <td>0.562267</td>\n",
       "    </tr>\n",
       "    <tr>\n",
       "      <th>4</th>\n",
       "      <td>11</td>\n",
       "      <td>0.229546</td>\n",
       "    </tr>\n",
       "    <tr>\n",
       "      <th>...</th>\n",
       "      <td>...</td>\n",
       "      <td>...</td>\n",
       "    </tr>\n",
       "    <tr>\n",
       "      <th>29995</th>\n",
       "      <td>99984</td>\n",
       "      <td>0.872072</td>\n",
       "    </tr>\n",
       "    <tr>\n",
       "      <th>29996</th>\n",
       "      <td>99987</td>\n",
       "      <td>0.195398</td>\n",
       "    </tr>\n",
       "    <tr>\n",
       "      <th>29997</th>\n",
       "      <td>99989</td>\n",
       "      <td>0.455612</td>\n",
       "    </tr>\n",
       "    <tr>\n",
       "      <th>29998</th>\n",
       "      <td>99994</td>\n",
       "      <td>0.278149</td>\n",
       "    </tr>\n",
       "    <tr>\n",
       "      <th>29999</th>\n",
       "      <td>99997</td>\n",
       "      <td>0.708429</td>\n",
       "    </tr>\n",
       "  </tbody>\n",
       "</table>\n",
       "<p>30000 rows × 2 columns</p>\n",
       "</div>"
      ],
      "text/plain": [
       "          id    cardio\n",
       "0          5  0.494295\n",
       "1          6  0.560417\n",
       "2          7  0.401373\n",
       "3         10  0.562267\n",
       "4         11  0.229546\n",
       "...      ...       ...\n",
       "29995  99984  0.872072\n",
       "29996  99987  0.195398\n",
       "29997  99989  0.455612\n",
       "29998  99994  0.278149\n",
       "29999  99997  0.708429\n",
       "\n",
       "[30000 rows x 2 columns]"
      ]
     },
     "execution_count": 57,
     "metadata": {},
     "output_type": "execute_result"
    }
   ],
   "source": [
    "results"
   ]
  },
  {
   "cell_type": "code",
   "execution_count": 58,
   "id": "28a3aa9e",
   "metadata": {
    "cellId": "kfbi9ezfynwi6u3d1w22h"
   },
   "outputs": [],
   "source": [
    "results.to_csv('results.csv', encoding='utf-8', index=False)"
   ]
  },
  {
   "cell_type": "markdown",
   "id": "36b62c93",
   "metadata": {
    "cellId": "93p07gq8p7ietc9ykmleue"
   },
   "source": [
    "Сохранение модели"
   ]
  },
  {
   "cell_type": "code",
   "execution_count": null,
   "id": "6edf78f4",
   "metadata": {
    "cellId": "6w845e7mce6w4pqph4cd7"
   },
   "outputs": [],
   "source": [
    "#with open('model2.pcl', 'wb') as fid:\n",
    "#    dump(pipe, fid)"
   ]
  }
 ],
 "metadata": {
  "language_info": {
   "codemirror_mode": {
    "name": "ipython",
    "version": 3
   },
   "file_extension": ".py",
   "mimetype": "text/x-python",
   "name": "python",
   "nbconvert_exporter": "python",
   "pygments_lexer": "ipython3",
   "version": "3.7.7"
  },
  "notebookId": "fce6dd8c-6b12-4869-bffa-6ee8e0b14086",
  "notebookPath": "cardio-boosting.ipynb"
 },
 "nbformat": 4,
 "nbformat_minor": 5
}
